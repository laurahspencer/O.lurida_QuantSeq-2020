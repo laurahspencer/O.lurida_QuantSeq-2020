{
 "cells": [
  {
   "cell_type": "markdown",
   "metadata": {},
   "source": [
    "## Identify genes in Oly transcriptome v3\n",
    "\n",
    "The transcriptome that I used to pseudo-align counts in Salmon was created denovo from RNASeq data. That means that it is not tied to any of the feature files derived from the Oly genome. I therefore need to annotate the transcriptome, i.e. find genes. I can do this via blast. Luckily I have code from 2018 to do this! \n",
    "\n",
    "In this notebook I will blast the [denovo transcriptome (v3)](http://eagle.fish.washington.edu/cnidarian/Olurida_transcriptome_v3.fasta) fasta file, which is listed on the [Roberts Lab Genomic Resources page](https://github.com/RobertsLab/resources/wiki/Genomic-Resources) against Uniprot/Swissprot database to annotate.  \n",
    "\n",
    "### Install Blast \n",
    "\n",
    "I downloaded the latest blast program files (ncbi-blast-2.10.0+-x64-macosx.tar.gz) from this [website](https://ftp.ncbi.nlm.nih.gov/blast/executables/blast+/LATEST/). I untarred, confirmed that the md5 matched, moved to my /Applications/bioinformatics/ directory and renamed to simply \"blast/\".  "
   ]
  },
  {
   "cell_type": "code",
   "execution_count": 2,
   "metadata": {},
   "outputs": [],
   "source": [
    "# create path variable to blast directory \n",
    "blast = \"/Applications/bioinformatics/blast/bin/\""
   ]
  },
  {
   "cell_type": "code",
   "execution_count": 4,
   "metadata": {},
   "outputs": [
    {
     "name": "stdout",
     "output_type": "stream",
     "text": [
      "USAGE\r\n",
      "  blastx [-h] [-help] [-import_search_strategy filename]\r\n",
      "    [-export_search_strategy filename] [-task task_name] [-db database_name]\r\n",
      "    [-dbsize num_letters] [-gilist filename] [-seqidlist filename]\r\n",
      "    [-negative_gilist filename] [-negative_seqidlist filename]\r\n",
      "    [-taxids taxids] [-negative_taxids taxids] [-taxidlist filename]\r\n",
      "    [-negative_taxidlist filename] [-ipglist filename]\r\n",
      "    [-negative_ipglist filename] [-entrez_query entrez_query]\r\n",
      "    [-db_soft_mask filtering_algorithm] [-db_hard_mask filtering_algorithm]\r\n",
      "    [-subject subject_input_file] [-subject_loc range] [-query input_file]\r\n",
      "    [-out output_file] [-evalue evalue] [-word_size int_value]\r\n",
      "    [-gapopen open_penalty] [-gapextend extend_penalty]\r\n",
      "    [-qcov_hsp_perc float_value] [-max_hsps int_value]\r\n",
      "    [-xdrop_ungap float_value] [-xdrop_gap float_value]\r\n",
      "    [-xdrop_gap_final float_value] [-searchsp int_value]\r\n",
      "    [-sum_stats bool_value] [-max_intron_length length] [-seg SEG_options]\r\n",
      "    [-soft_masking soft_masking] [-matrix matrix_name]\r\n",
      "    [-threshold float_value] [-culling_limit int_value]\r\n",
      "    [-best_hit_overhang float_value] [-best_hit_score_edge float_value]\r\n",
      "    [-subject_besthit] [-window_size int_value] [-ungapped] [-lcase_masking]\r\n",
      "    [-query_loc range] [-strand strand] [-parse_deflines]\r\n",
      "    [-query_gencode int_value] [-outfmt format] [-show_gis]\r\n",
      "    [-num_descriptions int_value] [-num_alignments int_value]\r\n",
      "    [-line_length line_length] [-html] [-sorthits sort_hits]\r\n",
      "    [-sorthsps sort_hsps] [-max_target_seqs num_sequences]\r\n",
      "    [-num_threads int_value] [-remote] [-comp_based_stats compo]\r\n",
      "    [-use_sw_tback] [-version]\r\n",
      "\r\n",
      "DESCRIPTION\r\n",
      "   Translated Query-Protein Subject BLAST 2.10.0+\r\n",
      "\r\n",
      "OPTIONAL ARGUMENTS\r\n",
      " -h\r\n",
      "   Print USAGE and DESCRIPTION;  ignore all other parameters\r\n",
      " -help\r\n",
      "   Print USAGE, DESCRIPTION and ARGUMENTS; ignore all other parameters\r\n",
      " -version\r\n",
      "   Print version number;  ignore other arguments\r\n",
      "\r\n",
      " *** Input query options\r\n",
      " -query <File_In>\r\n",
      "   Input file name\r\n",
      "   Default = `-'\r\n",
      " -query_loc <String>\r\n",
      "   Location on the query sequence in 1-based offsets (Format: start-stop)\r\n",
      " -strand <String, `both', `minus', `plus'>\r\n",
      "   Query strand(s) to search against database/subject\r\n",
      "   Default = `both'\r\n",
      " -query_gencode <Integer, values between: 1-6, 9-16, 21-31, 33>\r\n",
      "   Genetic code to use to translate query (see\r\n",
      "   https://www.ncbi.nlm.nih.gov/Taxonomy/taxonomyhome.html/index.cgi?chapter=\r\n",
      "   cgencodes for details)\r\n",
      "   Default = `1'\r\n",
      "\r\n",
      " *** General search options\r\n",
      " -task <String, Permissible values: 'blastx' 'blastx-fast' >\r\n",
      "   Task to execute\r\n",
      "   Default = `blastx'\r\n",
      " -db <String>\r\n",
      "   BLAST database name\r\n",
      "    * Incompatible with:  subject, subject_loc\r\n",
      " -out <File_Out>\r\n",
      "   Output file name\r\n",
      "   Default = `-'\r\n",
      " -evalue <Real>\r\n",
      "   Expectation value (E) threshold for saving hits \r\n",
      "   Default = `10'\r\n",
      " -word_size <Integer, >=2>\r\n",
      "   Word size for wordfinder algorithm\r\n",
      " -gapopen <Integer>\r\n",
      "   Cost to open a gap\r\n",
      " -gapextend <Integer>\r\n",
      "   Cost to extend a gap\r\n",
      " -max_intron_length <Integer, >=0>\r\n",
      "   Length of the largest intron allowed in a translated nucleotide sequence\r\n",
      "   when linking multiple distinct alignments\r\n",
      "   Default = `0'\r\n",
      " -matrix <String>\r\n",
      "   Scoring matrix name (normally BLOSUM62)\r\n",
      " -threshold <Real, >=0>\r\n",
      "   Minimum word score such that the word is added to the BLAST lookup table\r\n",
      " -comp_based_stats <String>\r\n",
      "   Use composition-based statistics:\r\n",
      "       D or d: default (equivalent to 2 )\r\n",
      "       0 or F or f: No composition-based statistics\r\n",
      "       1: Composition-based statistics as in NAR 29:2994-3005, 2001\r\n",
      "       2 or T or t : Composition-based score adjustment as in Bioinformatics\r\n",
      "   21:902-911,\r\n",
      "       2005, conditioned on sequence properties\r\n",
      "       3: Composition-based score adjustment as in Bioinformatics 21:902-911,\r\n",
      "       2005, unconditionally\r\n",
      "   Default = `2'\r\n",
      "\r\n",
      " *** BLAST-2-Sequences options\r\n",
      " -subject <File_In>\r\n",
      "   Subject sequence(s) to search\r\n",
      "    * Incompatible with:  db, gilist, seqidlist, negative_gilist,\r\n",
      "   negative_seqidlist, taxids, taxidlist, negative_taxids, negative_taxidlist,\r\n",
      "   ipglist, negative_ipglist, db_soft_mask, db_hard_mask\r\n",
      " -subject_loc <String>\r\n",
      "   Location on the subject sequence in 1-based offsets (Format: start-stop)\r\n",
      "    * Incompatible with:  db, gilist, seqidlist, negative_gilist,\r\n",
      "   negative_seqidlist, taxids, taxidlist, negative_taxids, negative_taxidlist,\r\n",
      "   ipglist, negative_ipglist, db_soft_mask, db_hard_mask, remote\r\n",
      "\r\n",
      " *** Formatting options\r\n",
      " -outfmt <String>\r\n",
      "   alignment view options:\r\n",
      "     0 = Pairwise,\r\n",
      "     1 = Query-anchored showing identities,\r\n",
      "     2 = Query-anchored no identities,\r\n",
      "     3 = Flat query-anchored showing identities,\r\n",
      "     4 = Flat query-anchored no identities,\r\n",
      "     5 = BLAST XML,\r\n",
      "     6 = Tabular,\r\n",
      "     7 = Tabular with comment lines,\r\n",
      "     8 = Seqalign (Text ASN.1),\r\n",
      "     9 = Seqalign (Binary ASN.1),\r\n",
      "    10 = Comma-separated values,\r\n",
      "    11 = BLAST archive (ASN.1),\r\n",
      "    12 = Seqalign (JSON),\r\n",
      "    13 = Multiple-file BLAST JSON,\r\n",
      "    14 = Multiple-file BLAST XML2,\r\n",
      "    15 = Single-file BLAST JSON,\r\n",
      "    16 = Single-file BLAST XML2,\r",
      "\r\n",
      "    18 = Organism Report\r\n",
      "   \r\n",
      "   Options 6, 7 and 10 can be additionally configured to produce\r\n",
      "   a custom format specified by space delimited format specifiers,\r\n",
      "   or by a token specified by the delim keyword.\r\n",
      "    E.g.: \"10 delim=@ qacc sacc score\".\r\n",
      "   The delim keyword must appear after the numeric output format\r\n",
      "   specification.\r\n",
      "   The supported format specifiers are:\r\n",
      "   \t    qseqid means Query Seq-id\r\n",
      "   \t       qgi means Query GI\r\n",
      "   \t      qacc means Query accesion\r\n",
      "   \t   qaccver means Query accesion.version\r\n",
      "   \t      qlen means Query sequence length\r\n",
      "   \t    sseqid means Subject Seq-id\r\n",
      "   \t sallseqid means All subject Seq-id(s), separated by a ';'\r\n",
      "   \t       sgi means Subject GI\r\n",
      "   \t    sallgi means All subject GIs\r\n",
      "   \t      sacc means Subject accession\r\n",
      "   \t   saccver means Subject accession.version\r\n",
      "   \t   sallacc means All subject accessions\r\n",
      "   \t      slen means Subject sequence length\r\n",
      "   \t    qstart means Start of alignment in query\r\n",
      "   \t      qend means End of alignment in query\r",
      "\r\n",
      "   \t    sstart means Start of alignment in subject\r\n",
      "   \t      send means End of alignment in subject\r\n",
      "   \t      qseq means Aligned part of query sequence\r\n",
      "   \t      sseq means Aligned part of subject sequence\r\n",
      "   \t    evalue means Expect value\r\n",
      "   \t  bitscore means Bit score\r\n",
      "   \t     score means Raw score\r\n",
      "   \t    length means Alignment length\r\n",
      "   \t    pident means Percentage of identical matches\r\n",
      "   \t    nident means Number of identical matches\r\n",
      "   \t  mismatch means Number of mismatches\r\n",
      "   \t  positive means Number of positive-scoring matches\r\n",
      "   \t   gapopen means Number of gap openings\r\n",
      "   \t      gaps means Total number of gaps\r\n",
      "   \t      ppos means Percentage of positive-scoring matches\r\n",
      "   \t    frames means Query and subject frames separated by a '/'\r\n",
      "   \t    qframe means Query frame\r\n",
      "   \t    sframe means Subject frame\r\n",
      "   \t      btop means Blast traceback operations (BTOP)\r\n",
      "   \t    staxid means Subject Taxonomy ID\r\n",
      "   \t  ssciname means Subject Scientific Name\r\n",
      "   \t  scomname means Subject Common Name\r",
      "\r\n",
      "   \tsblastname means Subject Blast Name\r\n",
      "   \t sskingdom means Subject Super Kingdom\r\n",
      "   \t   staxids means unique Subject Taxonomy ID(s), separated by a ';'\r\n",
      "   \t\t\t (in numerical order)\r\n",
      "   \t sscinames means unique Subject Scientific Name(s), separated by a ';'\r\n",
      "   \t scomnames means unique Subject Common Name(s), separated by a ';'\r\n",
      "   \tsblastnames means unique Subject Blast Name(s), separated by a ';'\r\n",
      "   \t\t\t (in alphabetical order)\r\n",
      "   \tsskingdoms means unique Subject Super Kingdom(s), separated by a ';'\r\n",
      "   \t\t\t (in alphabetical order) \r\n",
      "   \t    stitle means Subject Title\r\n",
      "   \tsalltitles means All Subject Title(s), separated by a '<>'\r\n",
      "   \t   sstrand means Subject Strand\r\n",
      "   \t     qcovs means Query Coverage Per Subject\r\n",
      "   \t   qcovhsp means Query Coverage Per HSP\r\n",
      "   \t    qcovus means Query Coverage Per Unique Subject (blastn only)\r\n",
      "   When not provided, the default value is:\r\n",
      "   'qaccver saccver pident length mismatch gapopen qstart qend sstart send\r\n",
      "   evalue bitscore', which is equivalent to the keyword 'std'\r\n",
      "   Default = `0'\r\n",
      " -show_gis\r\n",
      "   Show NCBI GIs in deflines?\r\n",
      " -num_descriptions <Integer, >=0>\r\n",
      "   Number of database sequences to show one-line descriptions for\r\n",
      "   Not applicable for outfmt > 4\r\n",
      "   Default = `500'\r\n",
      "    * Incompatible with:  max_target_seqs\r\n",
      " -num_alignments <Integer, >=0>\r\n",
      "   Number of database sequences to show alignments for\r\n",
      "   Default = `250'\r\n",
      "    * Incompatible with:  max_target_seqs\r\n",
      " -line_length <Integer, >=1>\r\n",
      "   Line length for formatting alignments\r\n",
      "   Not applicable for outfmt > 4\r\n",
      "   Default = `60'\r\n",
      " -html\r\n",
      "   Produce HTML output?\r\n",
      " -sorthits <Integer, (>=0 and =<4)>\r\n",
      "   Sorting option for hits:\r\n",
      "   alignment view options:\r\n",
      "     0 = Sort by evalue,\r\n",
      "     1 = Sort by bit score,\r\n",
      "     2 = Sort by total score,\r\n",
      "     3 = Sort by percent identity,\r\n",
      "     4 = Sort by query coverage\r\n",
      "   Not applicable for outfmt > 4\r\n",
      " -sorthsps <Integer, (>=0 and =<4)>\r\n",
      "   Sorting option for hps:\r\n",
      "     0 = Sort by hsp evalue,\r\n",
      "     1 = Sort by hsp score,\r\n",
      "     2 = Sort by hsp query start,\r\n",
      "     3 = Sort by hsp percent identity,\r\n",
      "     4 = Sort by hsp subject start\r\n",
      "   Not applicable for outfmt != 0\r\n",
      "\r\n",
      " *** Query filtering options\r\n",
      " -seg <String>\r\n",
      "   Filter query sequence with SEG (Format: 'yes', 'window locut hicut', or\r\n",
      "   'no' to disable)\r\n",
      "   Default = `12 2.2 2.5'\r\n",
      " -soft_masking <Boolean>\r\n",
      "   Apply filtering locations as soft masks\r\n",
      "   Default = `false'\r\n",
      " -lcase_masking\r\n",
      "   Use lower case filtering in query and subject sequence(s)?\r\n",
      "\r\n",
      " *** Restrict search or results\r\n",
      " -gilist <String>\r\n",
      "   Restrict search of database to list of GIs\r\n",
      "    * Incompatible with:  seqidlist, taxids, taxidlist, negative_gilist,\r\n",
      "   negative_seqidlist, negative_taxids, negative_taxidlist, remote, subject,\r\n",
      "   subject_loc\r\n",
      " -seqidlist <String>\r\n",
      "   Restrict search of database to list of SeqIDs\r\n",
      "    * Incompatible with:  gilist, taxids, taxidlist, negative_gilist,\r\n",
      "   negative_seqidlist, negative_taxids, negative_taxidlist, remote, subject,\r\n",
      "   subject_loc\r\n",
      " -negative_gilist <String>\r\n",
      "   Restrict search of database to everything except the specified GIs\r\n",
      "    * Incompatible with:  gilist, seqidlist, taxids, taxidlist,\r\n",
      "   negative_seqidlist, negative_taxids, negative_taxidlist, remote, subject,\r\n",
      "   subject_loc\r\n",
      " -negative_seqidlist <String>\r\n",
      "   Restrict search of database to everything except the specified SeqIDs\r\n",
      "    * Incompatible with:  gilist, seqidlist, taxids, taxidlist,\r\n",
      "   negative_gilist, negative_taxids, negative_taxidlist, remote, subject,\r\n",
      "   subject_loc\r\n",
      " -taxids <String>\r\n",
      "   Restrict search of database to include only the specified taxonomy IDs\r\n",
      "   (multiple IDs delimited by ',')\r\n",
      "    * Incompatible with:  gilist, seqidlist, taxidlist, negative_gilist,\r\n",
      "   negative_seqidlist, negative_taxids, negative_taxidlist, remote, subject,\r\n",
      "   subject_loc\r\n",
      " -negative_taxids <String>\r\n",
      "   Restrict search of database to everything except the specified taxonomy IDs\r\n",
      "   (multiple IDs delimited by ',')\r\n",
      "    * Incompatible with:  gilist, seqidlist, taxids, taxidlist,\r\n",
      "   negative_gilist, negative_seqidlist, negative_taxidlist, remote, subject,\r\n",
      "   subject_loc\r\n",
      " -taxidlist <String>\r\n",
      "   Restrict search of database to include only the specified taxonomy IDs\r\n",
      "    * Incompatible with:  gilist, seqidlist, taxids, negative_gilist,\r\n",
      "   negative_seqidlist, negative_taxids, negative_taxidlist, remote, subject,\r\n",
      "   subject_loc\r\n",
      " -negative_taxidlist <String>\r\n",
      "   Restrict search of database to everything except the specified taxonomy IDs\r\n",
      "    * Incompatible with:  gilist, seqidlist, taxids, taxidlist,\r\n",
      "   negative_gilist, negative_seqidlist, negative_taxids, remote, subject,\r\n",
      "   subject_loc\r\n",
      " -ipglist <String>\r\n",
      "   Restrict search of database to list of IPGs\r\n",
      "    * Incompatible with:  subject, subject_loc\r\n",
      " -negative_ipglist <String>\r\n",
      "   Restrict search of database to everything except the specified IPGs\r\n",
      "    * Incompatible with:  subject, subject_loc\r\n",
      " -entrez_query <String>\r\n",
      "   Restrict search with the given Entrez query\r\n",
      "    * Requires:  remote\r\n",
      " -db_soft_mask <String>\r\n",
      "   Filtering algorithm ID to apply to the BLAST database as soft masking\r\n",
      "    * Incompatible with:  db_hard_mask, subject, subject_loc\r\n",
      " -db_hard_mask <String>\r\n",
      "   Filtering algorithm ID to apply to the BLAST database as hard masking\r\n",
      "    * Incompatible with:  db_soft_mask, subject, subject_loc\r\n",
      " -qcov_hsp_perc <Real, 0..100>\r\n",
      "   Percent query coverage per hsp\r\n",
      " -max_hsps <Integer, >=1>\r\n",
      "   Set maximum number of HSPs per subject sequence to save for each query\r\n",
      " -culling_limit <Integer, >=0>\r\n",
      "   If the query range of a hit is enveloped by that of at least this many\r\n",
      "   higher-scoring hits, delete the hit\r\n",
      "    * Incompatible with:  best_hit_overhang, best_hit_score_edge\r\n",
      " -best_hit_overhang <Real, (>0 and <0.5)>\r\n",
      "   Best Hit algorithm overhang value (recommended value: 0.1)\r\n",
      "    * Incompatible with:  culling_limit\r\n",
      " -best_hit_score_edge <Real, (>0 and <0.5)>\r\n",
      "   Best Hit algorithm score edge value (recommended value: 0.1)\r\n",
      "    * Incompatible with:  culling_limit\r\n",
      " -subject_besthit\r\n",
      "   Turn on best hit per subject sequence\r\n",
      " -max_target_seqs <Integer, >=1>\r\n",
      "   Maximum number of aligned sequences to keep \r\n",
      "   (value of 5 or more is recommended)\r\n",
      "   Default = `500'\r\n",
      "    * Incompatible with:  num_descriptions, num_alignments\r\n",
      "\r\n",
      " *** Statistical options\r\n",
      " -dbsize <Int8>\r\n",
      "   Effective length of the database \r\n",
      " -searchsp <Int8, >=0>\r\n",
      "   Effective length of the search space\r\n",
      " -sum_stats <Boolean>\r\n",
      "   Use sum statistics\r\n",
      "\r\n",
      " *** Search strategy options\r\n",
      " -import_search_strategy <File_In>\r\n",
      "   Search strategy to use\r\n",
      "    * Incompatible with:  export_search_strategy\r\n",
      " -export_search_strategy <File_Out>\r\n",
      "   File name to record the search strategy used\r\n",
      "    * Incompatible with:  import_search_strategy\r\n",
      "\r\n",
      " *** Extension options\r\n",
      " -xdrop_ungap <Real>\r\n",
      "   X-dropoff value (in bits) for ungapped extensions\r\n",
      " -xdrop_gap <Real>\r\n",
      "   X-dropoff value (in bits) for preliminary gapped extensions\r\n",
      " -xdrop_gap_final <Real>\r\n",
      "   X-dropoff value (in bits) for final gapped alignment\r\n",
      " -window_size <Integer, >=0>\r\n",
      "   Multiple hits window size, use 0 to specify 1-hit algorithm\r\n",
      " -ungapped\r\n",
      "   Perform ungapped alignment only?\r\n",
      "\r\n",
      " *** Miscellaneous options\r\n",
      " -parse_deflines\r\n",
      "   Should the query and subject defline(s) be parsed?\r\n",
      " -num_threads <Integer, >=1>\r\n",
      "   Number of threads (CPUs) to use in the BLAST search\r\n",
      "   Default = `1'\r\n",
      "    * Incompatible with:  remote\r\n",
      " -remote\r\n",
      "   Execute search remotely?\r\n",
      "    * Incompatible with:  gilist, seqidlist, taxids, taxidlist,\r\n",
      "   negative_gilist, negative_seqidlist, negative_taxids, negative_taxidlist,\r\n",
      "   subject_loc, num_threads\r\n",
      " -use_sw_tback\r\n",
      "   Compute locally optimal Smith-Waterman alignments?\r\n",
      "\r\n"
     ]
    }
   ],
   "source": [
    "# test blastx path variable \n",
    "! {blast}blastx -help"
   ]
  },
  {
   "cell_type": "markdown",
   "metadata": {},
   "source": [
    "### Create blast database using UniProt/Swiss-prot "
   ]
  },
  {
   "cell_type": "code",
   "execution_count": 18,
   "metadata": {},
   "outputs": [],
   "source": [
    "# create path variable to working directory, saved on my external hard drive \n",
    "workingdir = \"/Volumes/Bumblebee/O.lurida_QuantSeq-2020/\""
   ]
  },
  {
   "cell_type": "code",
   "execution_count": 19,
   "metadata": {},
   "outputs": [
    {
     "name": "stdout",
     "output_type": "stream",
     "text": [
      "/Volumes/Bumblebee/O.lurida_QuantSeq-2020\n"
     ]
    }
   ],
   "source": [
    "cd {workingdir}"
   ]
  },
  {
   "cell_type": "code",
   "execution_count": 8,
   "metadata": {},
   "outputs": [],
   "source": [
    "mkdir {workingdir}references/blastdb/"
   ]
  },
  {
   "cell_type": "code",
   "execution_count": 9,
   "metadata": {},
   "outputs": [
    {
     "name": "stdout",
     "output_type": "stream",
     "text": [
      "  % Total    % Received % Xferd  Average Speed   Time    Time     Time  Current\n",
      "                                 Dload  Upload   Total   Spent    Left  Speed\n",
      "100 85.1M  100 85.1M    0     0   449k      0  0:03:13  0:03:13 --:--:-- 1126k:05  0:02:56  519k1M    0     0   462k      0  0:03:08  0:01:24  0:01:44 1352k  0  0:03:00  0:01:40  0:01:20  615k 0:02:59  0:02:24  0:00:35  334k:03:00  0:02:25  0:00:35  351k\n"
     ]
    }
   ],
   "source": [
    "!curl \\\n",
    "ftp://ftp.uniprot.org/pub/databases/uniprot/current_release/knowledgebase/complete/uniprot_sprot.fasta.gz \\\n",
    "> {workingdir}references/blastdb/uniprot_sprot.fasta.gz"
   ]
  },
  {
   "cell_type": "code",
   "execution_count": 10,
   "metadata": {},
   "outputs": [],
   "source": [
    "!gunzip -k {workingdir}references/blastdb/uniprot_sprot.fasta.gz"
   ]
  },
  {
   "cell_type": "code",
   "execution_count": 12,
   "metadata": {},
   "outputs": [
    {
     "name": "stdout",
     "output_type": "stream",
     "text": [
      "\n",
      "\n",
      "Building a new DB, current time: 05/13/2020 17:04:02\n",
      "New DB name:   /Volumes/Bumblebee/O.lurida_QuantSeq-2020/references/blastdb/uniprot_sprot_20200513\n",
      "New DB title:  /Volumes/Bumblebee/O.lurida_QuantSeq-2020/references/blastdb/uniprot_sprot.fasta\n",
      "Sequence type: Protein\n",
      "Keep MBits: T\n",
      "Maximum file size: 1000000000B\n",
      "Adding sequences from FASTA; added 562253 sequences in 14.3889 seconds.\n",
      "\n",
      "\n"
     ]
    }
   ],
   "source": [
    "!{blast}makeblastdb \\\n",
    "-in {workingdir}references/blastdb/uniprot_sprot.fasta \\\n",
    "-dbtype prot \\\n",
    "-out {workingdir}references/blastdb/uniprot_sprot_20200513"
   ]
  },
  {
   "cell_type": "code",
   "execution_count": 14,
   "metadata": {},
   "outputs": [
    {
     "name": "stdout",
     "output_type": "stream",
     "text": [
      "\u001b[31muniprot_sprot.fasta\u001b[m\u001b[m        \u001b[31muniprot_sprot_20200513.pot\u001b[m\u001b[m\r\n",
      "\u001b[31muniprot_sprot.fasta.gz\u001b[m\u001b[m     \u001b[31muniprot_sprot_20200513.psq\u001b[m\u001b[m\r\n",
      "\u001b[31muniprot_sprot_20200513.pdb\u001b[m\u001b[m \u001b[31muniprot_sprot_20200513.ptf\u001b[m\u001b[m\r\n",
      "\u001b[31muniprot_sprot_20200513.phr\u001b[m\u001b[m \u001b[31muniprot_sprot_20200513.pto\u001b[m\u001b[m\r\n",
      "\u001b[31muniprot_sprot_20200513.pin\u001b[m\u001b[m\r\n"
     ]
    }
   ],
   "source": [
    "! ls {workingdir}references/blastdb/"
   ]
  },
  {
   "cell_type": "markdown",
   "metadata": {},
   "source": [
    "## Run blast "
   ]
  },
  {
   "cell_type": "code",
   "execution_count": 16,
   "metadata": {},
   "outputs": [],
   "source": [
    "!{blast}blastx \\\n",
    "-query {workingdir}references/Olurida_transcriptome_v3.fasta \\\n",
    "-db {workingdir}references/blastdb/uniprot_sprot_20200513 \\\n",
    "-out {workingdir}references/Olurida_transcriptome_v3_blastx.tab \\\n",
    "-evalue 1E-20 \\\n",
    "-num_threads 8 \\\n",
    "-outfmt 6"
   ]
  },
  {
   "cell_type": "markdown",
   "metadata": {},
   "source": [
    "### Look at blast results "
   ]
  },
  {
   "cell_type": "code",
   "execution_count": 3,
   "metadata": {},
   "outputs": [
    {
     "name": "stdout",
     "output_type": "stream",
     "text": [
      "comp75_c0_seq1\tsp|Q3SWT6|PPE1_RAT\t69.737\t76\t23\t0\t229\t2\t342\t417\t1.65e-35\t129\r\n",
      "comp75_c0_seq1\tsp|O35385|PPE2_MOUSE\t71.053\t76\t22\t0\t229\t2\t441\t516\t5.55e-35\t127\r\n",
      "comp75_c0_seq1\tsp|O14830|PPE2_HUMAN\t68.421\t76\t24\t0\t229\t2\t437\t512\t1.86e-34\t126\r\n",
      "comp75_c0_seq1\tsp|O14829|PPE1_HUMAN\t72.368\t76\t21\t0\t229\t2\t352\t427\t1.64e-33\t123\r\n",
      "comp75_c0_seq1\tsp|O35655|PPE1_MOUSE\t67.532\t77\t25\t0\t232\t2\t352\t428\t2.73e-33\t123\r\n",
      "comp75_c0_seq1\tsp|P40421|RDGC_DROME\t61.842\t76\t29\t0\t229\t2\t309\t384\t3.05e-31\t117\r\n",
      "comp75_c0_seq1\tsp|G5EBX9|PPE_CAEEL\t63.158\t76\t28\t0\t229\t2\t414\t489\t4.84e-31\t116\r\n",
      "comp147_c0_seq1\tsp|Q8IWF2|FXRD2_HUMAN\t59.821\t112\t44\t1\t5\t337\t187\t298\t2.74e-39\t141\r\n",
      "comp147_c0_seq1\tsp|Q3USW5|FXRD2_MOUSE\t57.143\t112\t47\t1\t5\t337\t178\t289\t3.45e-37\t135\r\n",
      "comp147_c0_seq1\tsp|B0UXS1|FXRD2_DANRE\t50.943\t106\t52\t0\t5\t322\t187\t292\t7.07e-31\t118\r\n"
     ]
    }
   ],
   "source": [
    "! head {workingdir}references/Olurida_transcriptome_v3_blastx.tab"
   ]
  },
  {
   "cell_type": "code",
   "execution_count": 4,
   "metadata": {},
   "outputs": [
    {
     "name": "stdout",
     "output_type": "stream",
     "text": [
      " 2518129 /Volumes/Bumblebee/O.lurida_QuantSeq-2020/references/Olurida_transcriptome_v3_blastx.tab\r\n"
     ]
    }
   ],
   "source": [
    "# 2,518,129 hits \n",
    "! wc -l {workingdir}references/Olurida_transcriptome_v3_blastx.tab"
   ]
  },
  {
   "cell_type": "markdown",
   "metadata": {},
   "source": [
    "### Convert blast output from tabular to GFF format \n",
    "\n",
    "I need a GFF/GTF formatted annotation file to use in Tximport, which is the program that processes Salmon transcript quantification data into gene counts.  I found a function in the program MGKit, called `blast2gff`, which does just that. To use, I need to install MGKit. Did so via Bioconda according to the manual's instructions: \n",
    "\n",
    "### Down a conda environment rabbit hole: \n",
    "Based on my experience/trouble shooting, programs that are installed via conda in their own environments are not accessible via the terminal until environments are \"activated\". To do so, just type `conda activate <program>` in the terminal, then the package commands should be accessible. \n",
    "\n",
    "However, this doesn't work in Jupyter Notebooks automatically. Following [this blog post](https://medium.com/@nrk25693/how-to-add-your-conda-environment-to-your-jupyter-notebook-in-just-4-steps-abeab8b8d084) I set up a conda environment called \"env_bioinf\", installed the packages that I need to access, and then added that as a kernel to my Jupyter notebook. Here is the full list of commands I used. Note: this was all entered in my terminal (i.e. NOT in Jupyter notebook:\n",
    "\n",
    "    conda create --name env_bioinf\n",
    "    conda activate env_bioinf\n",
    "    conda install -c conda-forge mgkit\n",
    "    conda install -c conda-forge salmon #I need that for another part of my pipeline, so installed that in the env_bioinf env too \n",
    "    conda install -c anaconda ipykernel\n",
    "    python -m ipykernel install --user --name=env_bioinf\n",
    "\n",
    "\n",
    "I then closed my Jupyter Notebook, re-opened, and voila, I have a new kernel called \"env_bioinf\".  \n",
    "\n",
    "![image](https://user-images.githubusercontent.com/17264765/82086294-28689680-96a3-11ea-87f9-a5115d12d767.png)\n",
    "\n",
    "#### Helpful tip:  \n",
    "\n",
    "To view all conda environments, type `conda env list` in terminal. When I do that, I get: "
   ]
  },
  {
   "cell_type": "code",
   "execution_count": 10,
   "metadata": {},
   "outputs": [
    {
     "name": "stdout",
     "output_type": "stream",
     "text": [
      "# conda environments:\r\n",
      "#\r\n",
      "base                  *  /Users/laura/anaconda3\r\n",
      "env_bioinf               /Users/laura/anaconda3/envs/env_bioinf\r\n",
      "salmon                   /Users/laura/anaconda3/envs/salmon\r\n",
      "\r\n"
     ]
    }
   ],
   "source": [
    "! conda env list"
   ]
  },
  {
   "cell_type": "code",
   "execution_count": 11,
   "metadata": {},
   "outputs": [
    {
     "name": "stdout",
     "output_type": "stream",
     "text": [
      "salmon 1.2.1\r\n"
     ]
    }
   ],
   "source": [
    "! salmon --version"
   ]
  },
  {
   "cell_type": "code",
   "execution_count": 12,
   "metadata": {},
   "outputs": [
    {
     "name": "stdout",
     "output_type": "stream",
     "text": [
      "/bin/sh: blast2gff: command not found\r\n"
     ]
    }
   ],
   "source": [
    "! blast2gff --version"
   ]
  },
  {
   "cell_type": "markdown",
   "metadata": {},
   "source": [
    "For some reason I still cannot access my mgkit functions.  Let's try to access it directoy: "
   ]
  },
  {
   "cell_type": "code",
   "execution_count": 4,
   "metadata": {},
   "outputs": [
    {
     "name": "stdout",
     "output_type": "stream",
     "text": [
      "\u001b[34mbin\u001b[m\u001b[m        \u001b[34minclude\u001b[m\u001b[m    \u001b[34mman\u001b[m\u001b[m        \u001b[34mshare\u001b[m\u001b[m\r\n",
      "\u001b[34mconda-meta\u001b[m\u001b[m \u001b[34mlib\u001b[m\u001b[m        \u001b[34msbin\u001b[m\u001b[m       \u001b[34mssl\u001b[m\u001b[m\r\n"
     ]
    }
   ],
   "source": [
    "# Explore anaconda3/ subdirectories \n",
    "! ls /Users/laura/anaconda3/envs/env_bioinf"
   ]
  },
  {
   "cell_type": "code",
   "execution_count": 5,
   "metadata": {},
   "outputs": [
    {
     "name": "stdout",
     "output_type": "stream",
     "text": [
      "\u001b[35m2to3\u001b[m\u001b[m                     \u001b[31mh5perf_serial\u001b[m\u001b[m            \u001b[31mpasteurize\u001b[m\u001b[m\r\n",
      "\u001b[31m2to3-3.7\u001b[m\u001b[m                 \u001b[31mh5redeploy\u001b[m\u001b[m               \u001b[31mpip\u001b[m\u001b[m\r\n",
      "\u001b[31madd-gff-info\u001b[m\u001b[m             \u001b[31mh5repack\u001b[m\u001b[m                 \u001b[31mpkgdata\u001b[m\u001b[m\r\n",
      "\u001b[31mblast2gff\u001b[m\u001b[m                \u001b[31mh5repart\u001b[m\u001b[m                 \u001b[31mpng-fix-itxt\u001b[m\u001b[m\r\n",
      "\u001b[31mbunzip2\u001b[m\u001b[m                  \u001b[31mh5stat\u001b[m\u001b[m                   \u001b[31mpngfix\u001b[m\u001b[m\r\n",
      "\u001b[31mbzcat\u001b[m\u001b[m                    \u001b[31mh5unjam\u001b[m\u001b[m                  \u001b[31mpt2to3\u001b[m\u001b[m\r\n",
      "\u001b[35mbzcmp\u001b[m\u001b[m                    \u001b[31mh5watch\u001b[m\u001b[m                  \u001b[31mptdump\u001b[m\u001b[m\r\n",
      "\u001b[31mbzdiff\u001b[m\u001b[m                   \u001b[31mhmmer2gff\u001b[m\u001b[m                \u001b[31mptrepack\u001b[m\u001b[m\r\n",
      "\u001b[35mbzegrep\u001b[m\u001b[m                  \u001b[31mhtseq-count\u001b[m\u001b[m              \u001b[31mpttree\u001b[m\u001b[m\r\n",
      "\u001b[35mbzfgrep\u001b[m\u001b[m                  \u001b[31mhtseq-count-barcodes\u001b[m\u001b[m     \u001b[35mpydoc\u001b[m\u001b[m\r\n",
      "\u001b[31mbzgrep\u001b[m\u001b[m                   \u001b[31mhtseq-qa\u001b[m\u001b[m                 \u001b[35mpydoc3\u001b[m\u001b[m\r\n",
      "\u001b[31mbzip2\u001b[m\u001b[m                    \u001b[31micu-config\u001b[m\u001b[m               \u001b[31mpydoc3.7\u001b[m\u001b[m\r\n",
      "\u001b[31mbzip2recover\u001b[m\u001b[m             \u001b[31micuinfo\u001b[m\u001b[m                  \u001b[31mpygmentize\u001b[m\u001b[m\r\n",
      "\u001b[35mbzless\u001b[m\u001b[m                   \u001b[35midle3\u001b[m\u001b[m                    \u001b[35mpython\u001b[m\u001b[m\r\n",
      "\u001b[31mbzmore\u001b[m\u001b[m                   \u001b[31midle3.7\u001b[m\u001b[m                  \u001b[35mpython3\u001b[m\u001b[m\r\n",
      "\u001b[31mc_rehash\u001b[m\u001b[m                 \u001b[31minfocmp\u001b[m\u001b[m                  \u001b[35mpython3-config\u001b[m\u001b[m\r\n",
      "\u001b[35mcaptoinfo\u001b[m\u001b[m                \u001b[35minfotocap\u001b[m\u001b[m                \u001b[31mpython3.7\u001b[m\u001b[m\r\n",
      "\u001b[31mchardetect\u001b[m\u001b[m               \u001b[31miptest\u001b[m\u001b[m                   \u001b[35mpython3.7-config\u001b[m\u001b[m\r\n",
      "\u001b[31mclear\u001b[m\u001b[m                    \u001b[31miptest3\u001b[m\u001b[m                  \u001b[35mpython3.7m\u001b[m\u001b[m\r\n",
      "\u001b[31mcompile_et\u001b[m\u001b[m               \u001b[31mipython\u001b[m\u001b[m                  \u001b[31mpython3.7m-config\u001b[m\u001b[m\r\n",
      "\u001b[31mcurl\u001b[m\u001b[m                     \u001b[31mipython3\u001b[m\u001b[m                 \u001b[35mpyvenv\u001b[m\u001b[m\r\n",
      "\u001b[31mcurl-config\u001b[m\u001b[m              \u001b[31mjemalloc-config\u001b[m\u001b[m          \u001b[31mpyvenv-3.7\u001b[m\u001b[m\r\n",
      "\u001b[31mcurve_keygen\u001b[m\u001b[m             \u001b[31mjemalloc.sh\u001b[m\u001b[m              \u001b[35mreset\u001b[m\u001b[m\r\n",
      "\u001b[31mderb\u001b[m\u001b[m                     \u001b[31mjeprof\u001b[m\u001b[m                   \u001b[31msalmon\u001b[m\u001b[m\r\n",
      "\u001b[31mdownload-ncbi-taxa.sh\u001b[m\u001b[m    \u001b[31mjson2gff\u001b[m\u001b[m                 \u001b[31msampling-utils\u001b[m\u001b[m\r\n",
      "\u001b[31mdownload-taxonomy.sh\u001b[m\u001b[m     \u001b[31mjupyter\u001b[m\u001b[m                  \u001b[31msclient\u001b[m\u001b[m\r\n",
      "\u001b[31mdownload-uniprot-taxa.sh\u001b[m\u001b[m \u001b[31mjupyter-kernel\u001b[m\u001b[m           \u001b[31msim_client\u001b[m\u001b[m\r\n",
      "\u001b[31measy_install\u001b[m\u001b[m             \u001b[31mjupyter-kernelspec\u001b[m\u001b[m       \u001b[31msnp_parser\u001b[m\u001b[m\r\n",
      "\u001b[31mf2py\u001b[m\u001b[m                     \u001b[31mjupyter-migrate\u001b[m\u001b[m          \u001b[31msort-gff.sh\u001b[m\u001b[m\r\n",
      "\u001b[31mf2py3\u001b[m\u001b[m                    \u001b[31mjupyter-run\u001b[m\u001b[m              \u001b[31msqlite3\u001b[m\u001b[m\r\n",
      "\u001b[31mf2py3.7\u001b[m\u001b[m                  \u001b[31mjupyter-troubleshoot\u001b[m\u001b[m     \u001b[31msqlite3_analyzer\u001b[m\u001b[m\r\n",
      "\u001b[31mfasta-utils\u001b[m\u001b[m              \u001b[31mk5srvutil\u001b[m\u001b[m                \u001b[31mtabs\u001b[m\u001b[m\r\n",
      "\u001b[31mfastq-utils\u001b[m\u001b[m              \u001b[31mkadmin\u001b[m\u001b[m                   \u001b[31mtaxon-utils\u001b[m\u001b[m\r\n",
      "\u001b[31mfilter-gff\u001b[m\u001b[m               \u001b[31mkdestroy\u001b[m\u001b[m                 \u001b[35mtclsh\u001b[m\u001b[m\r\n",
      "\u001b[31mfreetype-config\u001b[m\u001b[m          \u001b[31mkinit\u001b[m\u001b[m                    \u001b[31mtclsh8.6\u001b[m\u001b[m\r\n",
      "\u001b[31mfuturize\u001b[m\u001b[m                 \u001b[31mklist\u001b[m\u001b[m                    \u001b[31mtic\u001b[m\u001b[m\r\n",
      "\u001b[31mgenbrk\u001b[m\u001b[m                   \u001b[31mkpasswd\u001b[m\u001b[m                  \u001b[31mtoe\u001b[m\u001b[m\r\n",
      "\u001b[31mgencfu\u001b[m\u001b[m                   \u001b[31mkrb5-config\u001b[m\u001b[m              \u001b[31mtput\u001b[m\u001b[m\r\n",
      "\u001b[31mgencnval\u001b[m\u001b[m                 \u001b[31mkswitch\u001b[m\u001b[m                  \u001b[31mtqdm\u001b[m\u001b[m\r\n",
      "\u001b[31mgendict\u001b[m\u001b[m                  \u001b[31mktutil\u001b[m\u001b[m                   \u001b[31mtset\u001b[m\u001b[m\r\n",
      "\u001b[31mgenrb\u001b[m\u001b[m                    \u001b[31mkvno\u001b[m\u001b[m                     \u001b[35munlzma\u001b[m\u001b[m\r\n",
      "\u001b[31mget-gff-info\u001b[m\u001b[m             \u001b[35mlibpng-config\u001b[m\u001b[m            \u001b[35munxz\u001b[m\u001b[m\r\n",
      "\u001b[31mgif2h5\u001b[m\u001b[m                   \u001b[31mlibpng16-config\u001b[m\u001b[m          \u001b[31muuclient\u001b[m\u001b[m\r\n",
      "\u001b[31mgss-client\u001b[m\u001b[m               \u001b[35mlzcat\u001b[m\u001b[m                    \u001b[31mwheel\u001b[m\u001b[m\r\n",
      "\u001b[31mh52gif\u001b[m\u001b[m                   \u001b[35mlzcmp\u001b[m\u001b[m                    \u001b[35mwish\u001b[m\u001b[m\r\n",
      "\u001b[31mh5c++\u001b[m\u001b[m                    \u001b[35mlzdiff\u001b[m\u001b[m                   \u001b[31mwish8.6\u001b[m\u001b[m\r\n",
      "\u001b[31mh5cc\u001b[m\u001b[m                     \u001b[35mlzegrep\u001b[m\u001b[m                  \u001b[31mxz\u001b[m\u001b[m\r\n",
      "\u001b[31mh5clear\u001b[m\u001b[m                  \u001b[35mlzfgrep\u001b[m\u001b[m                  \u001b[35mxzcat\u001b[m\u001b[m\r\n",
      "\u001b[31mh5copy\u001b[m\u001b[m                   \u001b[35mlzgrep\u001b[m\u001b[m                   \u001b[35mxzcmp\u001b[m\u001b[m\r\n",
      "\u001b[31mh5debug\u001b[m\u001b[m                  \u001b[35mlzless\u001b[m\u001b[m                   \u001b[31mxzdec\u001b[m\u001b[m\r\n",
      "\u001b[31mh5diff\u001b[m\u001b[m                   \u001b[35mlzma\u001b[m\u001b[m                     \u001b[31mxzdiff\u001b[m\u001b[m\r\n",
      "\u001b[31mh5dump\u001b[m\u001b[m                   \u001b[31mlzmadec\u001b[m\u001b[m                  \u001b[35mxzegrep\u001b[m\u001b[m\r\n",
      "\u001b[31mh5fc\u001b[m\u001b[m                     \u001b[31mlzmainfo\u001b[m\u001b[m                 \u001b[35mxzfgrep\u001b[m\u001b[m\r\n",
      "\u001b[31mh5format_convert\u001b[m\u001b[m         \u001b[35mlzmore\u001b[m\u001b[m                   \u001b[31mxzgrep\u001b[m\u001b[m\r\n",
      "\u001b[31mh5import\u001b[m\u001b[m                 \u001b[31mmakeconv\u001b[m\u001b[m                 \u001b[31mxzless\u001b[m\u001b[m\r\n",
      "\u001b[31mh5jam\u001b[m\u001b[m                    \u001b[31mncurses6-config\u001b[m\u001b[m          \u001b[31mxzmore\u001b[m\u001b[m\r\n",
      "\u001b[31mh5ls\u001b[m\u001b[m                     \u001b[31mncursesw6-config\u001b[m\u001b[m\r\n",
      "\u001b[31mh5mkgrp\u001b[m\u001b[m                  \u001b[31mopenssl\u001b[m\u001b[m\r\n"
     ]
    }
   ],
   "source": [
    "# blast2gff is in there \n",
    "! ls /Users/laura/anaconda3/envs/env_bioinf/bin/"
   ]
  },
  {
   "cell_type": "code",
   "execution_count": 7,
   "metadata": {},
   "outputs": [
    {
     "name": "stdout",
     "output_type": "stream",
     "text": [
      "blast2gff, version 0.4.3\r\n"
     ]
    }
   ],
   "source": [
    "# I can also access blast2gff via hard-coding \n",
    "! /Users/laura/anaconda3/envs/env_bioinf/bin/blast2gff --version"
   ]
  },
  {
   "cell_type": "markdown",
   "metadata": {},
   "source": [
    "### Create a path variable to my env_bioinf environment to access packages "
   ]
  },
  {
   "cell_type": "code",
   "execution_count": 15,
   "metadata": {},
   "outputs": [],
   "source": [
    "env_bioinf = \"/Users/laura/anaconda3/envs/env_bioinf/bin/\""
   ]
  },
  {
   "cell_type": "code",
   "execution_count": 16,
   "metadata": {},
   "outputs": [
    {
     "name": "stdout",
     "output_type": "stream",
     "text": [
      "blast2gff, version 0.4.3\r\n"
     ]
    }
   ],
   "source": [
    "! {env_bioinf}blast2gff --version"
   ]
  },
  {
   "cell_type": "markdown",
   "metadata": {},
   "source": [
    "### Convert tabular blast results to GFF "
   ]
  },
  {
   "cell_type": "code",
   "execution_count": 24,
   "metadata": {},
   "outputs": [
    {
     "name": "stdout",
     "output_type": "stream",
     "text": [
      "\u001b[32mINFO\u001b[0m - mgkit.workflow.blast2gff: Writing to file (/Volumes/Bumblebee/O.lurida_QuantSeq-2020/references/Olurida_transcriptome_v3_blastx.gff)\n",
      "0it [00:00, ?it/s]\u001b[32mINFO\u001b[0m - mgkit.io.blast: Reading BLAST results from file (/Volumes/Bumblebee/O.lurida_QuantSeq-2020/references/Olurida_transcriptome_v3_blastx.tab)\n",
      "2518106it [01:47, 23752.18it/s]\u001b[32mINFO\u001b[0m - mgkit.io.blast: Read 2518129 BLAST records\n",
      "2518129it [01:47, 23504.20it/s]\n"
     ]
    }
   ],
   "source": [
    "! {env_bioinf}blast2gff \\\n",
    "uniprot \\\n",
    "--progress \\\n",
    "{workingdir}references/Olurida_transcriptome_v3_blastx.tab \\\n",
    "{workingdir}references/Olurida_transcriptome_v3_blastx.gff"
   ]
  },
  {
   "cell_type": "code",
   "execution_count": 27,
   "metadata": {},
   "outputs": [
    {
     "name": "stdout",
     "output_type": "stream",
     "text": [
      "comp75_c0_seq1\tsp|Q3SWT6|PPE1_RAT\t69.737\t76\t23\t0\t229\t2\t342\t417\t1.65e-35\t129\r\n",
      "comp75_c0_seq1\tsp|O35385|PPE2_MOUSE\t71.053\t76\t22\t0\t229\t2\t441\t516\t5.55e-35\t127\r\n",
      "comp75_c0_seq1\tsp|O14830|PPE2_HUMAN\t68.421\t76\t24\t0\t229\t2\t437\t512\t1.86e-34\t126\r\n"
     ]
    }
   ],
   "source": [
    "# original tabular blast results \n",
    "! head -3 {workingdir}references/Olurida_transcriptome_v3_blastx.tab"
   ]
  },
  {
   "cell_type": "code",
   "execution_count": 28,
   "metadata": {},
   "outputs": [
    {
     "name": "stdout",
     "output_type": "stream",
     "text": [
      "comp75_c0_seq1\tBLAST\tCDS\t2\t229\t129.0\t-\t0\tbitscore=\"129.0\";db=\"UNIPROT-SP\";dbq=\"10\";evalue=\"1.65e-35\";frame=\"r0\";gene_id=\"Q3SWT6\";identity=\"69.737\";subject_end=\"417\";subject_start=\"342\";uid=\"d6d01f18-2217-4e2e-93a5-2e67fccde5e6\"\r\n",
      "comp75_c0_seq1\tBLAST\tCDS\t2\t229\t127.0\t-\t0\tbitscore=\"127.0\";db=\"UNIPROT-SP\";dbq=\"10\";evalue=\"5.55e-35\";frame=\"r0\";gene_id=\"O35385\";identity=\"71.053\";subject_end=\"516\";subject_start=\"441\";uid=\"680a3ef7-2b25-475f-9c55-582e2675fec9\"\r\n",
      "comp75_c0_seq1\tBLAST\tCDS\t2\t229\t126.0\t-\t0\tbitscore=\"126.0\";db=\"UNIPROT-SP\";dbq=\"10\";evalue=\"1.86e-34\";frame=\"r0\";gene_id=\"O14830\";identity=\"68.421\";subject_end=\"512\";subject_start=\"437\";uid=\"18f2dc4b-109c-40bc-815e-e603ba9a1a52\"\r\n"
     ]
    }
   ],
   "source": [
    "# format after conversion to GFF \n",
    "! head -3 {workingdir}references/Olurida_transcriptome_v3_blastx.gff"
   ]
  },
  {
   "cell_type": "code",
   "execution_count": 29,
   "metadata": {},
   "outputs": [
    {
     "name": "stdout",
     "output_type": "stream",
     "text": [
      " 2518129 /Volumes/Bumblebee/O.lurida_QuantSeq-2020/references/Olurida_transcriptome_v3_blastx.gff\r\n"
     ]
    }
   ],
   "source": [
    "! wc -l {workingdir}references/Olurida_transcriptome_v3_blastx.gff"
   ]
  },
  {
   "cell_type": "code",
   "execution_count": 30,
   "metadata": {},
   "outputs": [
    {
     "name": "stdout",
     "output_type": "stream",
     "text": [
      "/usr/local/opt/icu4c/sbin:/usr/local/opt/icu4c/bin:/Users/laura/anaconda3/bin:/Users/laura/anaconda3/condabin:/anaconda3/bin:/usr/local/bin:/usr/bin:/bin:/usr/sbin:/sbin:/opt/X11/bin\r\n"
     ]
    }
   ],
   "source": [
    "! echo $PATH"
   ]
  },
  {
   "cell_type": "markdown",
   "metadata": {},
   "source": [
    "### The blast results in GFF format is now ready to be used with Tximport in R to convert trancript counts to gene counts\n",
    "\n",
    "..... Hold that thought. \n",
    "\n",
    "I don't know why, but the  script in Tximport's vignette to create a tx2gene object doesn't work for me. _However_, all I need is a file with two columns: 1) transcript ID and 2) gene ID, like this: \n",
    "\n",
    "![image](https://user-images.githubusercontent.com/17264765/82094687-67eaaf00-96b2-11ea-9883-869b32751c4e.png)\n",
    "\n",
    "I can create this from my blast tabular results from the tab file, which I will do in R.  Also, importantly I have multiple gene hits per transcript, so I will extract the \"top hit gene\" (also in R).   \n",
    "\n",
    "Pro Tip - Sam recommends using Diamond Blast "
   ]
  },
  {
   "cell_type": "code",
   "execution_count": null,
   "metadata": {},
   "outputs": [],
   "source": []
  },
  {
   "cell_type": "code",
   "execution_count": null,
   "metadata": {},
   "outputs": [],
   "source": []
  },
  {
   "cell_type": "code",
   "execution_count": null,
   "metadata": {},
   "outputs": [],
   "source": []
  }
 ],
 "metadata": {
  "kernelspec": {
   "display_name": "env_bioinf",
   "language": "python",
   "name": "env_bioinf"
  },
  "language_info": {
   "codemirror_mode": {
    "name": "ipython",
    "version": 3
   },
   "file_extension": ".py",
   "mimetype": "text/x-python",
   "name": "python",
   "nbconvert_exporter": "python",
   "pygments_lexer": "ipython3",
   "version": "3.7.6"
  }
 },
 "nbformat": 4,
 "nbformat_minor": 2
}
