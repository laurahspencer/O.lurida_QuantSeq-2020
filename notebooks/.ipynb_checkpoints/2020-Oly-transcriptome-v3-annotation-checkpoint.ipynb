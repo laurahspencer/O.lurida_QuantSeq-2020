{
 "cells": [
  {
   "cell_type": "markdown",
   "metadata": {},
   "source": [
    "## Identify genes in Oly transcriptome v3\n",
    "\n",
    "The transcriptome that I used to pseudo-align counts in Salmon was created denovo from RNASeq data. That means that it is not tied to any of the feature files derived from the Oly genome. I therefore need to annotate the transcriptome, i.e. find genes. I can do this via blast. Luckily I have code from 2018 to do this! \n",
    "\n",
    "In this notebook I will blast the [denovo transcriptome (v3)](http://eagle.fish.washington.edu/cnidarian/Olurida_transcriptome_v3.fasta) fasta file, which is listed on the [Roberts Lab Genomic Resources page](https://github.com/RobertsLab/resources/wiki/Genomic-Resources) against Uniprot/Swissprot database to annotate.  \n",
    "\n",
    "### Install Blast \n",
    "\n",
    "I downloaded the latest blast program files (ncbi-blast-2.10.0+-x64-macosx.tar.gz) from this [website](https://ftp.ncbi.nlm.nih.gov/blast/executables/blast+/LATEST/). I untarred, confirmed that the md5 matched, moved to my /Applications/bioinformatics/ directory and renamed to simply \"blast/\".  "
   ]
  },
  {
   "cell_type": "code",
   "execution_count": 2,
   "metadata": {},
   "outputs": [],
   "source": [
    "# create path variable to blast directory \n",
    "blast = \"/Applications/bioinformatics/blast/bin/\""
   ]
  },
  {
   "cell_type": "code",
   "execution_count": 4,
   "metadata": {},
   "outputs": [
    {
     "name": "stdout",
     "output_type": "stream",
     "text": [
      "USAGE\r\n",
      "  blastx [-h] [-help] [-import_search_strategy filename]\r\n",
      "    [-export_search_strategy filename] [-task task_name] [-db database_name]\r\n",
      "    [-dbsize num_letters] [-gilist filename] [-seqidlist filename]\r\n",
      "    [-negative_gilist filename] [-negative_seqidlist filename]\r\n",
      "    [-taxids taxids] [-negative_taxids taxids] [-taxidlist filename]\r\n",
      "    [-negative_taxidlist filename] [-ipglist filename]\r\n",
      "    [-negative_ipglist filename] [-entrez_query entrez_query]\r\n",
      "    [-db_soft_mask filtering_algorithm] [-db_hard_mask filtering_algorithm]\r\n",
      "    [-subject subject_input_file] [-subject_loc range] [-query input_file]\r\n",
      "    [-out output_file] [-evalue evalue] [-word_size int_value]\r\n",
      "    [-gapopen open_penalty] [-gapextend extend_penalty]\r\n",
      "    [-qcov_hsp_perc float_value] [-max_hsps int_value]\r\n",
      "    [-xdrop_ungap float_value] [-xdrop_gap float_value]\r\n",
      "    [-xdrop_gap_final float_value] [-searchsp int_value]\r\n",
      "    [-sum_stats bool_value] [-max_intron_length length] [-seg SEG_options]\r\n",
      "    [-soft_masking soft_masking] [-matrix matrix_name]\r\n",
      "    [-threshold float_value] [-culling_limit int_value]\r\n",
      "    [-best_hit_overhang float_value] [-best_hit_score_edge float_value]\r\n",
      "    [-subject_besthit] [-window_size int_value] [-ungapped] [-lcase_masking]\r\n",
      "    [-query_loc range] [-strand strand] [-parse_deflines]\r\n",
      "    [-query_gencode int_value] [-outfmt format] [-show_gis]\r\n",
      "    [-num_descriptions int_value] [-num_alignments int_value]\r\n",
      "    [-line_length line_length] [-html] [-sorthits sort_hits]\r\n",
      "    [-sorthsps sort_hsps] [-max_target_seqs num_sequences]\r\n",
      "    [-num_threads int_value] [-remote] [-comp_based_stats compo]\r\n",
      "    [-use_sw_tback] [-version]\r\n",
      "\r\n",
      "DESCRIPTION\r\n",
      "   Translated Query-Protein Subject BLAST 2.10.0+\r\n",
      "\r\n",
      "OPTIONAL ARGUMENTS\r\n",
      " -h\r\n",
      "   Print USAGE and DESCRIPTION;  ignore all other parameters\r\n",
      " -help\r\n",
      "   Print USAGE, DESCRIPTION and ARGUMENTS; ignore all other parameters\r\n",
      " -version\r\n",
      "   Print version number;  ignore other arguments\r\n",
      "\r\n",
      " *** Input query options\r\n",
      " -query <File_In>\r\n",
      "   Input file name\r\n",
      "   Default = `-'\r\n",
      " -query_loc <String>\r\n",
      "   Location on the query sequence in 1-based offsets (Format: start-stop)\r\n",
      " -strand <String, `both', `minus', `plus'>\r\n",
      "   Query strand(s) to search against database/subject\r\n",
      "   Default = `both'\r\n",
      " -query_gencode <Integer, values between: 1-6, 9-16, 21-31, 33>\r\n",
      "   Genetic code to use to translate query (see\r\n",
      "   https://www.ncbi.nlm.nih.gov/Taxonomy/taxonomyhome.html/index.cgi?chapter=\r\n",
      "   cgencodes for details)\r\n",
      "   Default = `1'\r\n",
      "\r\n",
      " *** General search options\r\n",
      " -task <String, Permissible values: 'blastx' 'blastx-fast' >\r\n",
      "   Task to execute\r\n",
      "   Default = `blastx'\r\n",
      " -db <String>\r\n",
      "   BLAST database name\r\n",
      "    * Incompatible with:  subject, subject_loc\r\n",
      " -out <File_Out>\r\n",
      "   Output file name\r\n",
      "   Default = `-'\r\n",
      " -evalue <Real>\r\n",
      "   Expectation value (E) threshold for saving hits \r\n",
      "   Default = `10'\r\n",
      " -word_size <Integer, >=2>\r\n",
      "   Word size for wordfinder algorithm\r\n",
      " -gapopen <Integer>\r\n",
      "   Cost to open a gap\r\n",
      " -gapextend <Integer>\r\n",
      "   Cost to extend a gap\r\n",
      " -max_intron_length <Integer, >=0>\r\n",
      "   Length of the largest intron allowed in a translated nucleotide sequence\r\n",
      "   when linking multiple distinct alignments\r\n",
      "   Default = `0'\r\n",
      " -matrix <String>\r\n",
      "   Scoring matrix name (normally BLOSUM62)\r\n",
      " -threshold <Real, >=0>\r\n",
      "   Minimum word score such that the word is added to the BLAST lookup table\r\n",
      " -comp_based_stats <String>\r\n",
      "   Use composition-based statistics:\r\n",
      "       D or d: default (equivalent to 2 )\r\n",
      "       0 or F or f: No composition-based statistics\r\n",
      "       1: Composition-based statistics as in NAR 29:2994-3005, 2001\r\n",
      "       2 or T or t : Composition-based score adjustment as in Bioinformatics\r\n",
      "   21:902-911,\r\n",
      "       2005, conditioned on sequence properties\r\n",
      "       3: Composition-based score adjustment as in Bioinformatics 21:902-911,\r\n",
      "       2005, unconditionally\r\n",
      "   Default = `2'\r\n",
      "\r\n",
      " *** BLAST-2-Sequences options\r\n",
      " -subject <File_In>\r\n",
      "   Subject sequence(s) to search\r\n",
      "    * Incompatible with:  db, gilist, seqidlist, negative_gilist,\r\n",
      "   negative_seqidlist, taxids, taxidlist, negative_taxids, negative_taxidlist,\r\n",
      "   ipglist, negative_ipglist, db_soft_mask, db_hard_mask\r\n",
      " -subject_loc <String>\r\n",
      "   Location on the subject sequence in 1-based offsets (Format: start-stop)\r\n",
      "    * Incompatible with:  db, gilist, seqidlist, negative_gilist,\r\n",
      "   negative_seqidlist, taxids, taxidlist, negative_taxids, negative_taxidlist,\r\n",
      "   ipglist, negative_ipglist, db_soft_mask, db_hard_mask, remote\r\n",
      "\r\n",
      " *** Formatting options\r\n",
      " -outfmt <String>\r\n",
      "   alignment view options:\r\n",
      "     0 = Pairwise,\r\n",
      "     1 = Query-anchored showing identities,\r\n",
      "     2 = Query-anchored no identities,\r\n",
      "     3 = Flat query-anchored showing identities,\r\n",
      "     4 = Flat query-anchored no identities,\r\n",
      "     5 = BLAST XML,\r\n",
      "     6 = Tabular,\r\n",
      "     7 = Tabular with comment lines,\r\n",
      "     8 = Seqalign (Text ASN.1),\r\n",
      "     9 = Seqalign (Binary ASN.1),\r\n",
      "    10 = Comma-separated values,\r\n",
      "    11 = BLAST archive (ASN.1),\r\n",
      "    12 = Seqalign (JSON),\r\n",
      "    13 = Multiple-file BLAST JSON,\r\n",
      "    14 = Multiple-file BLAST XML2,\r\n",
      "    15 = Single-file BLAST JSON,\r\n",
      "    16 = Single-file BLAST XML2,\r",
      "\r\n",
      "    18 = Organism Report\r\n",
      "   \r\n",
      "   Options 6, 7 and 10 can be additionally configured to produce\r\n",
      "   a custom format specified by space delimited format specifiers,\r\n",
      "   or by a token specified by the delim keyword.\r\n",
      "    E.g.: \"10 delim=@ qacc sacc score\".\r\n",
      "   The delim keyword must appear after the numeric output format\r\n",
      "   specification.\r\n",
      "   The supported format specifiers are:\r\n",
      "   \t    qseqid means Query Seq-id\r\n",
      "   \t       qgi means Query GI\r\n",
      "   \t      qacc means Query accesion\r\n",
      "   \t   qaccver means Query accesion.version\r\n",
      "   \t      qlen means Query sequence length\r\n",
      "   \t    sseqid means Subject Seq-id\r\n",
      "   \t sallseqid means All subject Seq-id(s), separated by a ';'\r\n",
      "   \t       sgi means Subject GI\r\n",
      "   \t    sallgi means All subject GIs\r\n",
      "   \t      sacc means Subject accession\r\n",
      "   \t   saccver means Subject accession.version\r\n",
      "   \t   sallacc means All subject accessions\r\n",
      "   \t      slen means Subject sequence length\r\n",
      "   \t    qstart means Start of alignment in query\r\n",
      "   \t      qend means End of alignment in query\r",
      "\r\n",
      "   \t    sstart means Start of alignment in subject\r\n",
      "   \t      send means End of alignment in subject\r\n",
      "   \t      qseq means Aligned part of query sequence\r\n",
      "   \t      sseq means Aligned part of subject sequence\r\n",
      "   \t    evalue means Expect value\r\n",
      "   \t  bitscore means Bit score\r\n",
      "   \t     score means Raw score\r\n",
      "   \t    length means Alignment length\r\n",
      "   \t    pident means Percentage of identical matches\r\n",
      "   \t    nident means Number of identical matches\r\n",
      "   \t  mismatch means Number of mismatches\r\n",
      "   \t  positive means Number of positive-scoring matches\r\n",
      "   \t   gapopen means Number of gap openings\r\n",
      "   \t      gaps means Total number of gaps\r\n",
      "   \t      ppos means Percentage of positive-scoring matches\r\n",
      "   \t    frames means Query and subject frames separated by a '/'\r\n",
      "   \t    qframe means Query frame\r\n",
      "   \t    sframe means Subject frame\r\n",
      "   \t      btop means Blast traceback operations (BTOP)\r\n",
      "   \t    staxid means Subject Taxonomy ID\r\n",
      "   \t  ssciname means Subject Scientific Name\r\n",
      "   \t  scomname means Subject Common Name\r",
      "\r\n",
      "   \tsblastname means Subject Blast Name\r\n",
      "   \t sskingdom means Subject Super Kingdom\r\n",
      "   \t   staxids means unique Subject Taxonomy ID(s), separated by a ';'\r\n",
      "   \t\t\t (in numerical order)\r\n",
      "   \t sscinames means unique Subject Scientific Name(s), separated by a ';'\r\n",
      "   \t scomnames means unique Subject Common Name(s), separated by a ';'\r\n",
      "   \tsblastnames means unique Subject Blast Name(s), separated by a ';'\r\n",
      "   \t\t\t (in alphabetical order)\r\n",
      "   \tsskingdoms means unique Subject Super Kingdom(s), separated by a ';'\r\n",
      "   \t\t\t (in alphabetical order) \r\n",
      "   \t    stitle means Subject Title\r\n",
      "   \tsalltitles means All Subject Title(s), separated by a '<>'\r\n",
      "   \t   sstrand means Subject Strand\r\n",
      "   \t     qcovs means Query Coverage Per Subject\r\n",
      "   \t   qcovhsp means Query Coverage Per HSP\r\n",
      "   \t    qcovus means Query Coverage Per Unique Subject (blastn only)\r\n",
      "   When not provided, the default value is:\r\n",
      "   'qaccver saccver pident length mismatch gapopen qstart qend sstart send\r\n",
      "   evalue bitscore', which is equivalent to the keyword 'std'\r\n",
      "   Default = `0'\r\n",
      " -show_gis\r\n",
      "   Show NCBI GIs in deflines?\r\n",
      " -num_descriptions <Integer, >=0>\r\n",
      "   Number of database sequences to show one-line descriptions for\r\n",
      "   Not applicable for outfmt > 4\r\n",
      "   Default = `500'\r\n",
      "    * Incompatible with:  max_target_seqs\r\n",
      " -num_alignments <Integer, >=0>\r\n",
      "   Number of database sequences to show alignments for\r\n",
      "   Default = `250'\r\n",
      "    * Incompatible with:  max_target_seqs\r\n",
      " -line_length <Integer, >=1>\r\n",
      "   Line length for formatting alignments\r\n",
      "   Not applicable for outfmt > 4\r\n",
      "   Default = `60'\r\n",
      " -html\r\n",
      "   Produce HTML output?\r\n",
      " -sorthits <Integer, (>=0 and =<4)>\r\n",
      "   Sorting option for hits:\r\n",
      "   alignment view options:\r\n",
      "     0 = Sort by evalue,\r\n",
      "     1 = Sort by bit score,\r\n",
      "     2 = Sort by total score,\r\n",
      "     3 = Sort by percent identity,\r\n",
      "     4 = Sort by query coverage\r\n",
      "   Not applicable for outfmt > 4\r\n",
      " -sorthsps <Integer, (>=0 and =<4)>\r\n",
      "   Sorting option for hps:\r\n",
      "     0 = Sort by hsp evalue,\r\n",
      "     1 = Sort by hsp score,\r\n",
      "     2 = Sort by hsp query start,\r\n",
      "     3 = Sort by hsp percent identity,\r\n",
      "     4 = Sort by hsp subject start\r\n",
      "   Not applicable for outfmt != 0\r\n",
      "\r\n",
      " *** Query filtering options\r\n",
      " -seg <String>\r\n",
      "   Filter query sequence with SEG (Format: 'yes', 'window locut hicut', or\r\n",
      "   'no' to disable)\r\n",
      "   Default = `12 2.2 2.5'\r\n",
      " -soft_masking <Boolean>\r\n",
      "   Apply filtering locations as soft masks\r\n",
      "   Default = `false'\r\n",
      " -lcase_masking\r\n",
      "   Use lower case filtering in query and subject sequence(s)?\r\n",
      "\r\n",
      " *** Restrict search or results\r\n",
      " -gilist <String>\r\n",
      "   Restrict search of database to list of GIs\r\n",
      "    * Incompatible with:  seqidlist, taxids, taxidlist, negative_gilist,\r\n",
      "   negative_seqidlist, negative_taxids, negative_taxidlist, remote, subject,\r\n",
      "   subject_loc\r\n",
      " -seqidlist <String>\r\n",
      "   Restrict search of database to list of SeqIDs\r\n",
      "    * Incompatible with:  gilist, taxids, taxidlist, negative_gilist,\r\n",
      "   negative_seqidlist, negative_taxids, negative_taxidlist, remote, subject,\r\n",
      "   subject_loc\r\n",
      " -negative_gilist <String>\r\n",
      "   Restrict search of database to everything except the specified GIs\r\n",
      "    * Incompatible with:  gilist, seqidlist, taxids, taxidlist,\r\n",
      "   negative_seqidlist, negative_taxids, negative_taxidlist, remote, subject,\r\n",
      "   subject_loc\r\n",
      " -negative_seqidlist <String>\r\n",
      "   Restrict search of database to everything except the specified SeqIDs\r\n",
      "    * Incompatible with:  gilist, seqidlist, taxids, taxidlist,\r\n",
      "   negative_gilist, negative_taxids, negative_taxidlist, remote, subject,\r\n",
      "   subject_loc\r\n",
      " -taxids <String>\r\n",
      "   Restrict search of database to include only the specified taxonomy IDs\r\n",
      "   (multiple IDs delimited by ',')\r\n",
      "    * Incompatible with:  gilist, seqidlist, taxidlist, negative_gilist,\r\n",
      "   negative_seqidlist, negative_taxids, negative_taxidlist, remote, subject,\r\n",
      "   subject_loc\r\n",
      " -negative_taxids <String>\r\n",
      "   Restrict search of database to everything except the specified taxonomy IDs\r\n",
      "   (multiple IDs delimited by ',')\r\n",
      "    * Incompatible with:  gilist, seqidlist, taxids, taxidlist,\r\n",
      "   negative_gilist, negative_seqidlist, negative_taxidlist, remote, subject,\r\n",
      "   subject_loc\r\n",
      " -taxidlist <String>\r\n",
      "   Restrict search of database to include only the specified taxonomy IDs\r\n",
      "    * Incompatible with:  gilist, seqidlist, taxids, negative_gilist,\r\n",
      "   negative_seqidlist, negative_taxids, negative_taxidlist, remote, subject,\r\n",
      "   subject_loc\r\n",
      " -negative_taxidlist <String>\r\n",
      "   Restrict search of database to everything except the specified taxonomy IDs\r\n",
      "    * Incompatible with:  gilist, seqidlist, taxids, taxidlist,\r\n",
      "   negative_gilist, negative_seqidlist, negative_taxids, remote, subject,\r\n",
      "   subject_loc\r\n",
      " -ipglist <String>\r\n",
      "   Restrict search of database to list of IPGs\r\n",
      "    * Incompatible with:  subject, subject_loc\r\n",
      " -negative_ipglist <String>\r\n",
      "   Restrict search of database to everything except the specified IPGs\r\n",
      "    * Incompatible with:  subject, subject_loc\r\n",
      " -entrez_query <String>\r\n",
      "   Restrict search with the given Entrez query\r\n",
      "    * Requires:  remote\r\n",
      " -db_soft_mask <String>\r\n",
      "   Filtering algorithm ID to apply to the BLAST database as soft masking\r\n",
      "    * Incompatible with:  db_hard_mask, subject, subject_loc\r\n",
      " -db_hard_mask <String>\r\n",
      "   Filtering algorithm ID to apply to the BLAST database as hard masking\r\n",
      "    * Incompatible with:  db_soft_mask, subject, subject_loc\r\n",
      " -qcov_hsp_perc <Real, 0..100>\r\n",
      "   Percent query coverage per hsp\r\n",
      " -max_hsps <Integer, >=1>\r\n",
      "   Set maximum number of HSPs per subject sequence to save for each query\r\n",
      " -culling_limit <Integer, >=0>\r\n",
      "   If the query range of a hit is enveloped by that of at least this many\r\n",
      "   higher-scoring hits, delete the hit\r\n",
      "    * Incompatible with:  best_hit_overhang, best_hit_score_edge\r\n",
      " -best_hit_overhang <Real, (>0 and <0.5)>\r\n",
      "   Best Hit algorithm overhang value (recommended value: 0.1)\r\n",
      "    * Incompatible with:  culling_limit\r\n",
      " -best_hit_score_edge <Real, (>0 and <0.5)>\r\n",
      "   Best Hit algorithm score edge value (recommended value: 0.1)\r\n",
      "    * Incompatible with:  culling_limit\r\n",
      " -subject_besthit\r\n",
      "   Turn on best hit per subject sequence\r\n",
      " -max_target_seqs <Integer, >=1>\r\n",
      "   Maximum number of aligned sequences to keep \r\n",
      "   (value of 5 or more is recommended)\r\n",
      "   Default = `500'\r\n",
      "    * Incompatible with:  num_descriptions, num_alignments\r\n",
      "\r\n",
      " *** Statistical options\r\n",
      " -dbsize <Int8>\r\n",
      "   Effective length of the database \r\n",
      " -searchsp <Int8, >=0>\r\n",
      "   Effective length of the search space\r\n",
      " -sum_stats <Boolean>\r\n",
      "   Use sum statistics\r\n",
      "\r\n",
      " *** Search strategy options\r\n",
      " -import_search_strategy <File_In>\r\n",
      "   Search strategy to use\r\n",
      "    * Incompatible with:  export_search_strategy\r\n",
      " -export_search_strategy <File_Out>\r\n",
      "   File name to record the search strategy used\r\n",
      "    * Incompatible with:  import_search_strategy\r\n",
      "\r\n",
      " *** Extension options\r\n",
      " -xdrop_ungap <Real>\r\n",
      "   X-dropoff value (in bits) for ungapped extensions\r\n",
      " -xdrop_gap <Real>\r\n",
      "   X-dropoff value (in bits) for preliminary gapped extensions\r\n",
      " -xdrop_gap_final <Real>\r\n",
      "   X-dropoff value (in bits) for final gapped alignment\r\n",
      " -window_size <Integer, >=0>\r\n",
      "   Multiple hits window size, use 0 to specify 1-hit algorithm\r\n",
      " -ungapped\r\n",
      "   Perform ungapped alignment only?\r\n",
      "\r\n",
      " *** Miscellaneous options\r\n",
      " -parse_deflines\r\n",
      "   Should the query and subject defline(s) be parsed?\r\n",
      " -num_threads <Integer, >=1>\r\n",
      "   Number of threads (CPUs) to use in the BLAST search\r\n",
      "   Default = `1'\r\n",
      "    * Incompatible with:  remote\r\n",
      " -remote\r\n",
      "   Execute search remotely?\r\n",
      "    * Incompatible with:  gilist, seqidlist, taxids, taxidlist,\r\n",
      "   negative_gilist, negative_seqidlist, negative_taxids, negative_taxidlist,\r\n",
      "   subject_loc, num_threads\r\n",
      " -use_sw_tback\r\n",
      "   Compute locally optimal Smith-Waterman alignments?\r\n",
      "\r\n"
     ]
    }
   ],
   "source": [
    "# test blastx path variable \n",
    "! {blast}blastx -help"
   ]
  },
  {
   "cell_type": "markdown",
   "metadata": {},
   "source": [
    "### Create blast database using UniProt/Swiss-prot "
   ]
  },
  {
   "cell_type": "code",
   "execution_count": 1,
   "metadata": {},
   "outputs": [],
   "source": [
    "# create path variable to working directory, saved on my external hard drive \n",
    "workingdir = \"/Volumes/Bumblebee/O.lurida_QuantSeq-2020/\""
   ]
  },
  {
   "cell_type": "code",
   "execution_count": 2,
   "metadata": {},
   "outputs": [
    {
     "name": "stdout",
     "output_type": "stream",
     "text": [
      "/Volumes/Bumblebee/O.lurida_QuantSeq-2020\n"
     ]
    }
   ],
   "source": [
    "cd {workingdir}"
   ]
  },
  {
   "cell_type": "code",
   "execution_count": 8,
   "metadata": {},
   "outputs": [],
   "source": [
    "mkdir {workingdir}references/blastdb/"
   ]
  },
  {
   "cell_type": "code",
   "execution_count": 9,
   "metadata": {},
   "outputs": [
    {
     "name": "stdout",
     "output_type": "stream",
     "text": [
      "  % Total    % Received % Xferd  Average Speed   Time    Time     Time  Current\n",
      "                                 Dload  Upload   Total   Spent    Left  Speed\n",
      "100 85.1M  100 85.1M    0     0   449k      0  0:03:13  0:03:13 --:--:-- 1126k:05  0:02:56  519k1M    0     0   462k      0  0:03:08  0:01:24  0:01:44 1352k  0  0:03:00  0:01:40  0:01:20  615k 0:02:59  0:02:24  0:00:35  334k:03:00  0:02:25  0:00:35  351k\n"
     ]
    }
   ],
   "source": [
    "!curl \\\n",
    "ftp://ftp.uniprot.org/pub/databases/uniprot/current_release/knowledgebase/complete/uniprot_sprot.fasta.gz \\\n",
    "> {workingdir}references/blastdb/uniprot_sprot.fasta.gz"
   ]
  },
  {
   "cell_type": "code",
   "execution_count": 10,
   "metadata": {},
   "outputs": [],
   "source": [
    "!gunzip -k {workingdir}references/blastdb/uniprot_sprot.fasta.gz"
   ]
  },
  {
   "cell_type": "code",
   "execution_count": 12,
   "metadata": {},
   "outputs": [
    {
     "name": "stdout",
     "output_type": "stream",
     "text": [
      "\n",
      "\n",
      "Building a new DB, current time: 05/13/2020 17:04:02\n",
      "New DB name:   /Volumes/Bumblebee/O.lurida_QuantSeq-2020/references/blastdb/uniprot_sprot_20200513\n",
      "New DB title:  /Volumes/Bumblebee/O.lurida_QuantSeq-2020/references/blastdb/uniprot_sprot.fasta\n",
      "Sequence type: Protein\n",
      "Keep MBits: T\n",
      "Maximum file size: 1000000000B\n",
      "Adding sequences from FASTA; added 562253 sequences in 14.3889 seconds.\n",
      "\n",
      "\n"
     ]
    }
   ],
   "source": [
    "!{blast}makeblastdb \\\n",
    "-in {workingdir}references/blastdb/uniprot_sprot.fasta \\\n",
    "-dbtype prot \\\n",
    "-out {workingdir}references/blastdb/uniprot_sprot_20200513"
   ]
  },
  {
   "cell_type": "code",
   "execution_count": 14,
   "metadata": {},
   "outputs": [
    {
     "name": "stdout",
     "output_type": "stream",
     "text": [
      "\u001b[31muniprot_sprot.fasta\u001b[m\u001b[m        \u001b[31muniprot_sprot_20200513.pot\u001b[m\u001b[m\r\n",
      "\u001b[31muniprot_sprot.fasta.gz\u001b[m\u001b[m     \u001b[31muniprot_sprot_20200513.psq\u001b[m\u001b[m\r\n",
      "\u001b[31muniprot_sprot_20200513.pdb\u001b[m\u001b[m \u001b[31muniprot_sprot_20200513.ptf\u001b[m\u001b[m\r\n",
      "\u001b[31muniprot_sprot_20200513.phr\u001b[m\u001b[m \u001b[31muniprot_sprot_20200513.pto\u001b[m\u001b[m\r\n",
      "\u001b[31muniprot_sprot_20200513.pin\u001b[m\u001b[m\r\n"
     ]
    }
   ],
   "source": [
    "! ls {workingdir}references/blastdb/"
   ]
  },
  {
   "cell_type": "markdown",
   "metadata": {},
   "source": [
    "## Run blast "
   ]
  },
  {
   "cell_type": "code",
   "execution_count": 16,
   "metadata": {},
   "outputs": [],
   "source": [
    "!{blast}blastx \\\n",
    "-query {workingdir}references/Olurida_transcriptome_v3.fasta \\\n",
    "-db {workingdir}references/blastdb/uniprot_sprot_20200513 \\\n",
    "-out {workingdir}references/Olurida_transcriptome_v3_blastx.tab \\\n",
    "-evalue 1E-20 \\\n",
    "-num_threads 8 \\\n",
    "-outfmt 6"
   ]
  },
  {
   "cell_type": "markdown",
   "metadata": {},
   "source": [
    "### Look at blast results "
   ]
  },
  {
   "cell_type": "code",
   "execution_count": 3,
   "metadata": {},
   "outputs": [
    {
     "name": "stdout",
     "output_type": "stream",
     "text": [
      "comp75_c0_seq1\tsp|Q3SWT6|PPE1_RAT\t69.737\t76\t23\t0\t229\t2\t342\t417\t1.65e-35\t129\r\n",
      "comp75_c0_seq1\tsp|O35385|PPE2_MOUSE\t71.053\t76\t22\t0\t229\t2\t441\t516\t5.55e-35\t127\r\n",
      "comp75_c0_seq1\tsp|O14830|PPE2_HUMAN\t68.421\t76\t24\t0\t229\t2\t437\t512\t1.86e-34\t126\r\n",
      "comp75_c0_seq1\tsp|O14829|PPE1_HUMAN\t72.368\t76\t21\t0\t229\t2\t352\t427\t1.64e-33\t123\r\n",
      "comp75_c0_seq1\tsp|O35655|PPE1_MOUSE\t67.532\t77\t25\t0\t232\t2\t352\t428\t2.73e-33\t123\r\n",
      "comp75_c0_seq1\tsp|P40421|RDGC_DROME\t61.842\t76\t29\t0\t229\t2\t309\t384\t3.05e-31\t117\r\n",
      "comp75_c0_seq1\tsp|G5EBX9|PPE_CAEEL\t63.158\t76\t28\t0\t229\t2\t414\t489\t4.84e-31\t116\r\n",
      "comp147_c0_seq1\tsp|Q8IWF2|FXRD2_HUMAN\t59.821\t112\t44\t1\t5\t337\t187\t298\t2.74e-39\t141\r\n",
      "comp147_c0_seq1\tsp|Q3USW5|FXRD2_MOUSE\t57.143\t112\t47\t1\t5\t337\t178\t289\t3.45e-37\t135\r\n",
      "comp147_c0_seq1\tsp|B0UXS1|FXRD2_DANRE\t50.943\t106\t52\t0\t5\t322\t187\t292\t7.07e-31\t118\r\n"
     ]
    }
   ],
   "source": [
    "! head {workingdir}references/Olurida_transcriptome_v3_blastx.tab"
   ]
  },
  {
   "cell_type": "code",
   "execution_count": 4,
   "metadata": {},
   "outputs": [
    {
     "name": "stdout",
     "output_type": "stream",
     "text": [
      " 2518129 /Volumes/Bumblebee/O.lurida_QuantSeq-2020/references/Olurida_transcriptome_v3_blastx.tab\r\n"
     ]
    }
   ],
   "source": [
    "# 2,518,129 hits \n",
    "! wc -l {workingdir}references/Olurida_transcriptome_v3_blastx.tab"
   ]
  },
  {
   "cell_type": "markdown",
   "metadata": {},
   "source": [
    "### Convert blast output from tabular to GFF format \n",
    "\n",
    "I need a GFF/GTF formatted annotation file to use in Tximport, which is the program that processes Salmon transcript quantification data into gene counts.  I found a function in the program MGKit, called `blast2gff`, which does just that. To use, I need to install MGKit. Did so via Bioconda according to the manual's instructions: \n",
    "\n",
    "_Installing in a conda environment is relatively straight forward, and I recommend installing mgkit in its own environment:_\n",
    "\n",
    "    conda create --name mgkit mgkit\n",
    "\n",
    "_This will install mgkit in a virtual environment called mgkit. Conda will write on screen the way to activate the virtual environment, which may different according to your installation._\n",
    "\n",
    "    conda activate mgkit\n",
    "    \n",
    "**A note on conda environments**: Based on my experience/trouble shooting, programs that are installed via conda in their own environments are not accessible via the terminal until environments are \"activated\". To do so, just type `conda activate <program>` in the terminal, then the package commands should be accessible. \n",
    "\n",
    "However, this doesn't work in Jupyter Notebooks automatically. Following [this blog post](https://medium.com/@nrk25693/how-to-add-your-conda-environment-to-your-jupyter-notebook-in-just-4-steps-abeab8b8d084) I set up a conda environment in my Jupyter Notebook via the following, typed into my terminal: \n",
    "\n",
    "    conda install -c anaconda ipykernel\n",
    "    python -m ipykernel install --user --name=firstEnv\n",
    "\n",
    "I then closed my Jupyter Notebook, re-opened, and voila, I have a new kernel called \"firstEnv\".  \n",
    "\n",
    "![image](https://user-images.githubusercontent.com/17264765/82079264-69f34480-9697-11ea-9206-760c497e36eb.png)\n",
    "\n",
    "#### Helpful tips:  \n",
    "\n",
    "To view all conda environments, type `conda env list` in terminal. When I do that, I get: \n",
    "\n",
    "    # conda environments:\n",
    "    #\n",
    "    base                     /Users/laura/anaconda3\n",
    "    mgkit                 *  /Users/laura/anaconda3/envs/mgkit\n",
    "    salmon                   /Users/laura/anaconda3/envs/salmon\n",
    "\n"
   ]
  },
  {
   "cell_type": "code",
   "execution_count": 3,
   "metadata": {},
   "outputs": [
    {
     "name": "stdout",
     "output_type": "stream",
     "text": [
      "\r\n",
      "CommandNotFoundError: Your shell has not been properly configured to use 'conda activate'.\r\n",
      "To initialize your shell, run\r\n",
      "\r\n",
      "    $ conda init <SHELL_NAME>\r\n",
      "\r\n",
      "Currently supported shells are:\r\n",
      "  - bash\r\n",
      "  - fish\r\n",
      "  - tcsh\r\n",
      "  - xonsh\r\n",
      "  - zsh\r\n",
      "  - powershell\r\n",
      "\r\n",
      "See 'conda init --help' for more information and options.\r\n",
      "\r\n",
      "IMPORTANT: You may need to close and restart your shell after running 'conda init'.\r\n",
      "\r\n",
      "\r\n"
     ]
    }
   ],
   "source": [
    "! conda activate mgkit"
   ]
  },
  {
   "cell_type": "code",
   "execution_count": 9,
   "metadata": {},
   "outputs": [
    {
     "name": "stdout",
     "output_type": "stream",
     "text": [
      "/bin/sh: blast2gff: command not found\r\n"
     ]
    }
   ],
   "source": [
    "! blast2gff --version"
   ]
  },
  {
   "cell_type": "code",
   "execution_count": 10,
   "metadata": {},
   "outputs": [
    {
     "name": "stdout",
     "output_type": "stream",
     "text": [
      "/bin/sh: {mgkit}blast2gff: command not found\r\n"
     ]
    }
   ],
   "source": [
    "! {mgkit}blast2gff \\\n",
    "uniprot \\\n",
    "--progress \\\n",
    "BLAST_FILE {workingdir}references/Olurida_transcriptome_v3_blastx.tab \\\n",
    "GFF_FILE {workingdir}references/Olurida_transcriptome_v3_blastx.gff"
   ]
  },
  {
   "cell_type": "code",
   "execution_count": 5,
   "metadata": {},
   "outputs": [
    {
     "name": "stdout",
     "output_type": "stream",
     "text": [
      "head: /Volumes/Bumblebee/O.lurida_QuantSeq-2020/references/Olurida_transcriptome_v3_blastx.gff: No such file or directory\r\n"
     ]
    }
   ],
   "source": [
    "! head {workingdir}references/Olurida_transcriptome_v3_blastx.gff"
   ]
  },
  {
   "cell_type": "code",
   "execution_count": 6,
   "metadata": {},
   "outputs": [
    {
     "data": {
      "text/plain": [
       "'/Volumes/Bumblebee/O.lurida_QuantSeq-2020'"
      ]
     },
     "execution_count": 6,
     "metadata": {},
     "output_type": "execute_result"
    }
   ],
   "source": [
    "pwd"
   ]
  }
 ],
 "metadata": {
  "kernelspec": {
   "display_name": "Python (mgkit)",
   "language": "python",
   "name": "mgkit"
  },
  "language_info": {
   "codemirror_mode": {
    "name": "ipython",
    "version": 3
   },
   "file_extension": ".py",
   "mimetype": "text/x-python",
   "name": "python",
   "nbconvert_exporter": "python",
   "pygments_lexer": "ipython3",
   "version": "3.6.10"
  }
 },
 "nbformat": 4,
 "nbformat_minor": 2
}
